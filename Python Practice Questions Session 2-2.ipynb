{
 "cells": [
  {
   "cell_type": "markdown",
   "id": "807a2315",
   "metadata": {},
   "source": [
    "## Python Practice 2"
   ]
  },
  {
   "cell_type": "markdown",
   "id": "4f7baff0",
   "metadata": {},
   "source": [
    "## Numbers"
   ]
  },
  {
   "cell_type": "markdown",
   "id": "9c0088dc",
   "metadata": {},
   "source": [
    "### Question 1\n",
    "Insert the correct syntax to convert x into a floating point number."
   ]
  },
  {
   "cell_type": "code",
   "execution_count": 1,
   "id": "8ac265db",
   "metadata": {},
   "outputs": [],
   "source": [
    "x = 5"
   ]
  },
  {
   "cell_type": "code",
   "execution_count": 2,
   "id": "2642e7fd",
   "metadata": {},
   "outputs": [
    {
     "data": {
      "text/plain": [
       "5"
      ]
     },
     "execution_count": 2,
     "metadata": {},
     "output_type": "execute_result"
    }
   ],
   "source": [
    "x"
   ]
  },
  {
   "cell_type": "code",
   "execution_count": 3,
   "id": "0cb4c02c",
   "metadata": {
    "scrolled": true
   },
   "outputs": [
    {
     "data": {
      "text/plain": [
       "int"
      ]
     },
     "execution_count": 3,
     "metadata": {},
     "output_type": "execute_result"
    }
   ],
   "source": [
    "type(x)"
   ]
  },
  {
   "cell_type": "code",
   "execution_count": 4,
   "id": "b5d09c73",
   "metadata": {},
   "outputs": [
    {
     "data": {
      "text/plain": [
       "5.0"
      ]
     },
     "execution_count": 4,
     "metadata": {},
     "output_type": "execute_result"
    }
   ],
   "source": [
    "float(x)\n"
   ]
  },
  {
   "cell_type": "markdown",
   "id": "c2bd90a9",
   "metadata": {},
   "source": [
    "## Lists"
   ]
  },
  {
   "cell_type": "markdown",
   "id": "9a0a5bf6",
   "metadata": {},
   "source": [
    "### Question 2\n",
    "Print the second item in the fruits list."
   ]
  },
  {
   "cell_type": "code",
   "execution_count": 5,
   "id": "c424de8d",
   "metadata": {},
   "outputs": [],
   "source": [
    "fruits = [\"apple\", \"banana\", \"cherry\"]"
   ]
  },
  {
   "cell_type": "code",
   "execution_count": 6,
   "id": "57b2d6aa",
   "metadata": {},
   "outputs": [
    {
     "data": {
      "text/plain": [
       "['apple', 'banana', 'cherry']"
      ]
     },
     "execution_count": 6,
     "metadata": {},
     "output_type": "execute_result"
    }
   ],
   "source": [
    "fruits"
   ]
  },
  {
   "cell_type": "code",
   "execution_count": 7,
   "id": "cd45f015",
   "metadata": {
    "scrolled": true
   },
   "outputs": [
    {
     "data": {
      "text/plain": [
       "list"
      ]
     },
     "execution_count": 7,
     "metadata": {},
     "output_type": "execute_result"
    }
   ],
   "source": [
    "type(fruits)"
   ]
  },
  {
   "cell_type": "code",
   "execution_count": 8,
   "id": "909f513a",
   "metadata": {},
   "outputs": [
    {
     "data": {
      "text/plain": [
       "'banana'"
      ]
     },
     "execution_count": 8,
     "metadata": {},
     "output_type": "execute_result"
    }
   ],
   "source": [
    "fruits[1]"
   ]
  },
  {
   "cell_type": "markdown",
   "id": "590910f2",
   "metadata": {},
   "source": [
    "### Question 3\n",
    "Change the value from \"apple\" to \"kiwi\", in the fruits list."
   ]
  },
  {
   "cell_type": "code",
   "execution_count": 9,
   "id": "151ffe63",
   "metadata": {},
   "outputs": [],
   "source": [
    "fruits = [\"apple\", \"banana\", \"cherry\"]"
   ]
  },
  {
   "cell_type": "code",
   "execution_count": 10,
   "id": "c6dbdc50",
   "metadata": {},
   "outputs": [
    {
     "data": {
      "text/plain": [
       "['apple', 'banana', 'cherry']"
      ]
     },
     "execution_count": 10,
     "metadata": {},
     "output_type": "execute_result"
    }
   ],
   "source": [
    "fruits"
   ]
  },
  {
   "cell_type": "code",
   "execution_count": 11,
   "id": "070740a5",
   "metadata": {},
   "outputs": [],
   "source": [
    "x=fruits[0] = \"kiwi\""
   ]
  },
  {
   "cell_type": "code",
   "execution_count": 12,
   "id": "27a23284",
   "metadata": {},
   "outputs": [
    {
     "data": {
      "text/plain": [
       "'kiwi'"
      ]
     },
     "execution_count": 12,
     "metadata": {},
     "output_type": "execute_result"
    }
   ],
   "source": [
    "x"
   ]
  },
  {
   "cell_type": "markdown",
   "id": "b4cdae36",
   "metadata": {},
   "source": [
    "### Question 4\n",
    "Use the append method to add \"orange\" to the fruits list."
   ]
  },
  {
   "cell_type": "code",
   "execution_count": 13,
   "id": "6b4997b3",
   "metadata": {},
   "outputs": [],
   "source": [
    "fruits = [\"apple\", \"banana\", \"cherry\"]"
   ]
  },
  {
   "cell_type": "code",
   "execution_count": 14,
   "id": "c50abaff",
   "metadata": {},
   "outputs": [],
   "source": [
    "fruits=fruits.append(\"orange\")"
   ]
  },
  {
   "cell_type": "code",
   "execution_count": 15,
   "id": "a9cfb8d5",
   "metadata": {},
   "outputs": [],
   "source": [
    "fruits"
   ]
  },
  {
   "cell_type": "code",
   "execution_count": 16,
   "id": "436f0c77",
   "metadata": {},
   "outputs": [],
   "source": [
    "fruits"
   ]
  },
  {
   "cell_type": "code",
   "execution_count": null,
   "id": "044aad6b",
   "metadata": {},
   "outputs": [],
   "source": []
  },
  {
   "cell_type": "markdown",
   "id": "76477f2a",
   "metadata": {},
   "source": [
    "### Question 5\n",
    "Add \"orange\" to the fruits set."
   ]
  },
  {
   "cell_type": "code",
   "execution_count": 17,
   "id": "d9257d03",
   "metadata": {},
   "outputs": [],
   "source": [
    "fruits = {\"apple\", \"banana\", \"cherry\"}"
   ]
  },
  {
   "cell_type": "code",
   "execution_count": 18,
   "id": "eaae50ff",
   "metadata": {},
   "outputs": [
    {
     "data": {
      "text/plain": [
       "{'apple', 'banana', 'cherry'}"
      ]
     },
     "execution_count": 18,
     "metadata": {},
     "output_type": "execute_result"
    }
   ],
   "source": [
    "fruits"
   ]
  },
  {
   "cell_type": "markdown",
   "id": "d39d8cac",
   "metadata": {},
   "source": [
    "### Question 6\n",
    "Use the correct method to add multiple items (more_fruits) to the fruits set."
   ]
  },
  {
   "cell_type": "code",
   "execution_count": 19,
   "id": "185ebef3",
   "metadata": {},
   "outputs": [],
   "source": [
    "fruits = {\"apple\", \"banana\", \"cherry\"}\n",
    "more_fruits = [\"orange\", \"mango\", \"grapes\", \"apple\", \"apple\"]"
   ]
  },
  {
   "cell_type": "code",
   "execution_count": 20,
   "id": "18400aeb",
   "metadata": {},
   "outputs": [],
   "source": [
    "fruits.update(more_fruits)"
   ]
  },
  {
   "cell_type": "code",
   "execution_count": 21,
   "id": "8706b356",
   "metadata": {},
   "outputs": [
    {
     "data": {
      "text/plain": [
       "{'apple', 'banana', 'cherry', 'grapes', 'mango', 'orange'}"
      ]
     },
     "execution_count": 21,
     "metadata": {},
     "output_type": "execute_result"
    }
   ],
   "source": [
    "fruits"
   ]
  },
  {
   "cell_type": "markdown",
   "id": "df96c421",
   "metadata": {},
   "source": [
    "### Question 7\n",
    "Use the get method to print the value of the \"model\" key of the car dictionary."
   ]
  },
  {
   "cell_type": "code",
   "execution_count": 22,
   "id": "12d96718",
   "metadata": {},
   "outputs": [],
   "source": [
    "car ={\n",
    "  \"brand\": \"Ford\",\n",
    "  \"model\": \"Mustang\",\n",
    "  \"year\": 1964\n",
    "}"
   ]
  },
  {
   "cell_type": "code",
   "execution_count": 23,
   "id": "8568a544",
   "metadata": {},
   "outputs": [
    {
     "data": {
      "text/plain": [
       "dict"
      ]
     },
     "execution_count": 23,
     "metadata": {},
     "output_type": "execute_result"
    }
   ],
   "source": [
    "type(car)"
   ]
  },
  {
   "cell_type": "code",
   "execution_count": 24,
   "id": "0c39e58c",
   "metadata": {},
   "outputs": [
    {
     "data": {
      "text/plain": [
       "'Mustang'"
      ]
     },
     "execution_count": 24,
     "metadata": {},
     "output_type": "execute_result"
    }
   ],
   "source": [
    "car.get(\"model\")"
   ]
  },
  {
   "cell_type": "markdown",
   "id": "9647510b",
   "metadata": {},
   "source": [
    "### Question 8\n",
    "Remove \"model\" from the car dictionary."
   ]
  },
  {
   "cell_type": "code",
   "execution_count": 25,
   "id": "d37b6074",
   "metadata": {},
   "outputs": [],
   "source": [
    "car = {\"brand\": \"Ford\", \"model\": \"Mustang\", \"year\": 1964}"
   ]
  },
  {
   "cell_type": "code",
   "execution_count": 26,
   "id": "f817c68c",
   "metadata": {},
   "outputs": [
    {
     "data": {
      "text/plain": [
       "'Mustang'"
      ]
     },
     "execution_count": 26,
     "metadata": {},
     "output_type": "execute_result"
    }
   ],
   "source": [
    "car.pop(\"model\")"
   ]
  },
  {
   "cell_type": "markdown",
   "id": "c272b56f",
   "metadata": {},
   "source": [
    "### Question 9\n",
    "Print \"Hello World\" if a is greater than b."
   ]
  },
  {
   "cell_type": "code",
   "execution_count": 27,
   "id": "f376578b",
   "metadata": {},
   "outputs": [],
   "source": [
    "a = 50\n",
    "b = 10"
   ]
  },
  {
   "cell_type": "code",
   "execution_count": 28,
   "id": "ce92176a",
   "metadata": {},
   "outputs": [
    {
     "name": "stdout",
     "output_type": "stream",
     "text": [
      "Hellow World\n"
     ]
    }
   ],
   "source": [
    "if a>b:\n",
    "    print(\"Hellow World\")"
   ]
  },
  {
   "cell_type": "markdown",
   "id": "e60de7f0",
   "metadata": {},
   "source": [
    "### Question 10\n",
    "Print \"Yes\" if a is equal to b, otherwise print \"No\"."
   ]
  },
  {
   "cell_type": "code",
   "execution_count": 29,
   "id": "6944e756",
   "metadata": {},
   "outputs": [],
   "source": [
    "a = 50\n",
    "b = 10"
   ]
  },
  {
   "cell_type": "code",
   "execution_count": 30,
   "id": "4e6f2d88",
   "metadata": {},
   "outputs": [
    {
     "name": "stdout",
     "output_type": "stream",
     "text": [
      "Hellow World\n"
     ]
    }
   ],
   "source": [
    "if a!=b:\n",
    "    print(\"Hellow World\")"
   ]
  },
  {
   "cell_type": "markdown",
   "id": "8b8b5167",
   "metadata": {},
   "source": [
    "### Question 11\n",
    "Print \"1\" if a is equal to b, print \"2\" if a is greater than b, otherwise print \"3\"."
   ]
  },
  {
   "cell_type": "code",
   "execution_count": 31,
   "id": "9d16139d",
   "metadata": {},
   "outputs": [],
   "source": [
    "a = 50\n",
    "b = 10"
   ]
  },
  {
   "cell_type": "code",
   "execution_count": 41,
   "id": "f2d2aff2",
   "metadata": {},
   "outputs": [
    {
     "name": "stdout",
     "output_type": "stream",
     "text": [
      "2\n"
     ]
    }
   ],
   "source": [
    "if a == b:\n",
    "    print(\"1\")\n",
    "elif a > b:\n",
    "    print(\"2\")\n",
    "else:\n",
    "    print(\"3\")"
   ]
  },
  {
   "cell_type": "markdown",
   "id": "473844de",
   "metadata": {},
   "source": [
    "### Question 12\n",
    "Print \"Hello\" if a is equal to b, or if c is equal to d."
   ]
  },
  {
   "cell_type": "code",
   "execution_count": 34,
   "id": "80fc11f9",
   "metadata": {},
   "outputs": [],
   "source": [
    "a = 50\n",
    "b = 10\n",
    "c = 20\n",
    "d = 20"
   ]
  },
  {
   "cell_type": "code",
   "execution_count": 35,
   "id": "2ad4c1dd",
   "metadata": {},
   "outputs": [],
   "source": [
    "if a == b and c == d:\n",
    "    print (\"Hellow\")"
   ]
  },
  {
   "cell_type": "markdown",
   "id": "e6c003d2",
   "metadata": {},
   "source": [
    "### Question 13\n",
    "Loop through the items in the fruits list."
   ]
  },
  {
   "cell_type": "code",
   "execution_count": 36,
   "id": "ccb3cf87",
   "metadata": {},
   "outputs": [],
   "source": [
    "fruits = [\"apple\", \"banana\", \"cherry\"]"
   ]
  },
  {
   "cell_type": "code",
   "execution_count": 37,
   "id": "3f3f36ed",
   "metadata": {},
   "outputs": [
    {
     "name": "stdout",
     "output_type": "stream",
     "text": [
      "apple\n",
      "banana\n",
      "cherry\n"
     ]
    }
   ],
   "source": [
    "for x in fruits :\n",
    "    print (x)"
   ]
  },
  {
   "cell_type": "markdown",
   "id": "7b461b29",
   "metadata": {},
   "source": [
    "### Question 14\n",
    "Use the range function to loop through a code set 6 times."
   ]
  },
  {
   "cell_type": "code",
   "execution_count": 38,
   "id": "7a42db8a",
   "metadata": {},
   "outputs": [
    {
     "name": "stdout",
     "output_type": "stream",
     "text": [
      "0\n",
      "1\n",
      "2\n",
      "3\n",
      "4\n",
      "5\n"
     ]
    }
   ],
   "source": [
    "for x in range(6):\n",
    "  print(x)"
   ]
  },
  {
   "cell_type": "markdown",
   "id": "82c9d07c",
   "metadata": {},
   "source": [
    "### Question 15\n",
    "Exit the loop when x is \"banana\"."
   ]
  },
  {
   "cell_type": "code",
   "execution_count": null,
   "id": "55a8dd2f",
   "metadata": {},
   "outputs": [],
   "source": [
    "fruits = [\"apple\", \"banana\", \"cherry\"]"
   ]
  },
  {
   "cell_type": "code",
   "execution_count": 39,
   "id": "ed36e698",
   "metadata": {},
   "outputs": [
    {
     "name": "stdout",
     "output_type": "stream",
     "text": [
      "apple\n"
     ]
    }
   ],
   "source": [
    "for x in fruits:\n",
    "  if x == \"banana\":\n",
    "   break \n",
    "  print(x)"
   ]
  },
  {
   "cell_type": "markdown",
   "id": "6b2aeced",
   "metadata": {},
   "source": [
    "### Question 16\n",
    "Create a function that takes 2 string as input 'firstname' & 'lastname' and returns a single concatenated string back, add spaces between names"
   ]
  },
  {
   "cell_type": "code",
   "execution_count": 43,
   "id": "f212dfe6",
   "metadata": {},
   "outputs": [],
   "source": [
    "x = \"firstname\""
   ]
  },
  {
   "cell_type": "code",
   "execution_count": 44,
   "id": "762a3c0c",
   "metadata": {},
   "outputs": [],
   "source": [
    "y = \"lastname\""
   ]
  },
  {
   "cell_type": "code",
   "execution_count": 45,
   "id": "ea04b9b9",
   "metadata": {},
   "outputs": [
    {
     "name": "stdout",
     "output_type": "stream",
     "text": [
      "firstname lastname\n"
     ]
    }
   ],
   "source": [
    "z = x + \" \" + y\n",
    "print(z)"
   ]
  },
  {
   "cell_type": "code",
   "execution_count": 46,
   "id": "deca42c4",
   "metadata": {},
   "outputs": [],
   "source": [
    "def function(x,y):\n",
    "    print(x+' '+y)"
   ]
  },
  {
   "cell_type": "code",
   "execution_count": 48,
   "id": "ff56e3d2",
   "metadata": {},
   "outputs": [
    {
     "name": "stdout",
     "output_type": "stream",
     "text": [
      "Ajay Kumar\n"
     ]
    }
   ],
   "source": [
    "function('Ajay','Kumar')"
   ]
  },
  {
   "cell_type": "code",
   "execution_count": null,
   "id": "0ca2a99d",
   "metadata": {},
   "outputs": [],
   "source": []
  }
 ],
 "metadata": {
  "kernelspec": {
   "display_name": "Python 3 (ipykernel)",
   "language": "python",
   "name": "python3"
  },
  "language_info": {
   "codemirror_mode": {
    "name": "ipython",
    "version": 3
   },
   "file_extension": ".py",
   "mimetype": "text/x-python",
   "name": "python",
   "nbconvert_exporter": "python",
   "pygments_lexer": "ipython3",
   "version": "3.9.16"
  }
 },
 "nbformat": 4,
 "nbformat_minor": 5
}
