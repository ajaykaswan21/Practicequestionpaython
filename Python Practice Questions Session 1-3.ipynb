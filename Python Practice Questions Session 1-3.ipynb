{
 "cells": [
  {
   "cell_type": "markdown",
   "id": "10de4649",
   "metadata": {},
   "source": [
    "## Python Practice"
   ]
  },
  {
   "cell_type": "markdown",
   "id": "4f65f323",
   "metadata": {},
   "source": [
    "### Strings"
   ]
  },
  {
   "cell_type": "markdown",
   "id": "e958f7b3",
   "metadata": {},
   "source": [
    "### Question 1\n",
    "Get the first character of the string txt."
   ]
  },
  {
   "cell_type": "code",
   "execution_count": 8,
   "id": "0eb366d1",
   "metadata": {},
   "outputs": [
    {
     "name": "stdout",
     "output_type": "stream",
     "text": [
      "Hello World\n"
     ]
    }
   ],
   "source": [
    "txt = \"Hello World\"\n",
    "print(txt)"
   ]
  },
  {
   "cell_type": "code",
   "execution_count": 10,
   "id": "15c70f50",
   "metadata": {},
   "outputs": [
    {
     "data": {
      "text/plain": [
       "'H'"
      ]
     },
     "execution_count": 10,
     "metadata": {},
     "output_type": "execute_result"
    }
   ],
   "source": [
    "txt[0]"
   ]
  },
  {
   "cell_type": "markdown",
   "id": "f4b6be9d",
   "metadata": {},
   "source": [
    "### Question 2\n",
    "Get the second last character of the given string txt."
   ]
  },
  {
   "cell_type": "code",
   "execution_count": 10,
   "id": "3c1aa9c8",
   "metadata": {},
   "outputs": [],
   "source": [
    "txt = \"Hello World\""
   ]
  },
  {
   "cell_type": "code",
   "execution_count": 13,
   "id": "1974f51a",
   "metadata": {},
   "outputs": [
    {
     "data": {
      "text/plain": [
       "'l'"
      ]
     },
     "execution_count": 13,
     "metadata": {},
     "output_type": "execute_result"
    }
   ],
   "source": [
    "txt[-2]"
   ]
  },
  {
   "cell_type": "markdown",
   "id": "39554dcb",
   "metadata": {},
   "source": [
    "### Question 3\n",
    "Get the characters from index 2 to index 4 (ll)."
   ]
  },
  {
   "cell_type": "code",
   "execution_count": 5,
   "id": "2968fc75",
   "metadata": {},
   "outputs": [],
   "source": [
    "txt = \"Hello World\""
   ]
  },
  {
   "cell_type": "code",
   "execution_count": 14,
   "id": "b3ee34e7",
   "metadata": {},
   "outputs": [
    {
     "data": {
      "text/plain": [
       "'llo'"
      ]
     },
     "execution_count": 14,
     "metadata": {},
     "output_type": "execute_result"
    }
   ],
   "source": [
    "txt[2:5]"
   ]
  },
  {
   "cell_type": "markdown",
   "id": "b10a7638",
   "metadata": {},
   "source": [
    "### Question 4\n",
    "Return the string without any whitespace at the beginning or the end."
   ]
  },
  {
   "cell_type": "code",
   "execution_count": 13,
   "id": "37b74688",
   "metadata": {},
   "outputs": [],
   "source": [
    "txt = \" Hello World \""
   ]
  },
  {
   "cell_type": "code",
   "execution_count": 15,
   "id": "9175a73a",
   "metadata": {},
   "outputs": [
    {
     "data": {
      "text/plain": [
       "'Hello World'"
      ]
     },
     "execution_count": 15,
     "metadata": {},
     "output_type": "execute_result"
    }
   ],
   "source": [
    "txt.strip()"
   ]
  },
  {
   "cell_type": "markdown",
   "id": "f7ef13e9",
   "metadata": {},
   "source": [
    "### Question 5\n",
    "Convert the value of txt to lower case."
   ]
  },
  {
   "cell_type": "code",
   "execution_count": 22,
   "id": "d6a01a25",
   "metadata": {},
   "outputs": [],
   "source": [
    "txt = \" Hello World \""
   ]
  },
  {
   "cell_type": "code",
   "execution_count": 16,
   "id": "fa6a3e77",
   "metadata": {},
   "outputs": [
    {
     "data": {
      "text/plain": [
       "'hello world'"
      ]
     },
     "execution_count": 16,
     "metadata": {},
     "output_type": "execute_result"
    }
   ],
   "source": [
    "txt.lower()"
   ]
  },
  {
   "cell_type": "markdown",
   "id": "b3d11cda",
   "metadata": {},
   "source": [
    "### Question 6\n",
    "Count how many times \"l\" appeared in the text"
   ]
  },
  {
   "cell_type": "code",
   "execution_count": 28,
   "id": "cc13c68d",
   "metadata": {},
   "outputs": [],
   "source": [
    "txt = \"hello world\""
   ]
  },
  {
   "cell_type": "code",
   "execution_count": 29,
   "id": "fa24f1e0",
   "metadata": {},
   "outputs": [
    {
     "data": {
      "text/plain": [
       "'hello world'"
      ]
     },
     "execution_count": 29,
     "metadata": {},
     "output_type": "execute_result"
    }
   ],
   "source": [
    "txt"
   ]
  },
  {
   "cell_type": "code",
   "execution_count": 19,
   "id": "968b7f9f",
   "metadata": {},
   "outputs": [
    {
     "data": {
      "text/plain": [
       "3"
      ]
     },
     "execution_count": 19,
     "metadata": {},
     "output_type": "execute_result"
    }
   ],
   "source": [
    "txt.count(\"l\")"
   ]
  },
  {
   "cell_type": "markdown",
   "id": "3cf48798",
   "metadata": {},
   "source": [
    "### Question 7\n",
    "Replace the character H with a J."
   ]
  },
  {
   "cell_type": "code",
   "execution_count": 34,
   "id": "90dd70ae",
   "metadata": {},
   "outputs": [
    {
     "data": {
      "text/plain": [
       "'Hello World'"
      ]
     },
     "execution_count": 34,
     "metadata": {},
     "output_type": "execute_result"
    }
   ],
   "source": [
    "txt = \"Hello World\"\n",
    "txt"
   ]
  },
  {
   "cell_type": "code",
   "execution_count": 17,
   "id": "b4c9749e",
   "metadata": {},
   "outputs": [
    {
     "data": {
      "text/plain": [
       "'Jello World'"
      ]
     },
     "execution_count": 17,
     "metadata": {},
     "output_type": "execute_result"
    }
   ],
   "source": [
    "txt.replace(\"H\",\"J\")"
   ]
  },
  {
   "cell_type": "markdown",
   "id": "2b83dee8",
   "metadata": {},
   "source": [
    "#### Answer"
   ]
  },
  {
   "cell_type": "markdown",
   "id": "98f3a68c",
   "metadata": {},
   "source": [
    "-----"
   ]
  },
  {
   "cell_type": "markdown",
   "id": "cfe9f6ae",
   "metadata": {},
   "source": [
    "### Additional Question\n",
    "Replace 'the' & 'The' & 'THE', with 'a'"
   ]
  },
  {
   "cell_type": "code",
   "execution_count": 66,
   "id": "a14b0182",
   "metadata": {},
   "outputs": [],
   "source": [
    "big_txt = \"The Second Punic War (218–201 BC) was the second of three wars fought between Carthage and Rome, the two main powers of the western Mediterranean in the 3rd century BC. For 17 years the two states struggled for supremacy. After immense materiel and human losses on both sides the Carthaginians were defeated. Macedonia, Syracuse and several Numidian kingdoms were drawn into the fighting, and Iberian and Gallic forces fought on both sides. There were three main military theatres during the war: Italy, where Hannibal defeated the Roman legions repeatedly, with occasional subsidiary campaigns on the islands of Sicily and Sardinia and in Greece; Iberia, where Hasdrubal, a younger brother of Hannibal, defended the Carthaginian colonial cities with mixed success before moving into Italy; and North Africa, where Rome finally won the war. \""
   ]
  },
  {
   "cell_type": "code",
   "execution_count": 67,
   "id": "9313e73f",
   "metadata": {},
   "outputs": [
    {
     "data": {
      "text/plain": [
       "'The Second Punic War (218–201 BC) was the second of three wars fought between Carthage and Rome, the two main powers of the western Mediterranean in the 3rd century BC. For 17 years the two states struggled for supremacy. After immense materiel and human losses on both sides the Carthaginians were defeated. Macedonia, Syracuse and several Numidian kingdoms were drawn into the fighting, and Iberian and Gallic forces fought on both sides. There were three main military theatres during the war: Italy, where Hannibal defeated the Roman legions repeatedly, with occasional subsidiary campaigns on the islands of Sicily and Sardinia and in Greece; Iberia, where Hasdrubal, a younger brother of Hannibal, defended the Carthaginian colonial cities with mixed success before moving into Italy; and North Africa, where Rome finally won the war. '"
      ]
     },
     "execution_count": 67,
     "metadata": {},
     "output_type": "execute_result"
    }
   ],
   "source": [
    "big_txt "
   ]
  },
  {
   "cell_type": "code",
   "execution_count": 71,
   "id": "081f2770",
   "metadata": {},
   "outputs": [
    {
     "data": {
      "text/plain": [
       "'The Second Punic War (218–201 BC) was the second of three wars fought between Carthage and Rome, the two main powers of the western Mediterranean in the 3rd century BC. For 17 years the two states struggled for supremacy. After immense materiel and human losses on both sides the Carthaginians were defeated. Macedonia, Syracuse and several Numidian kingdoms were drawn into the fighting, and Iberian and Gallic forces fought on both sides. There were three main military theatres during the war: Italy, where Hannibal defeated the Roman legions repeatedly, with occasional subsidiary campaigns on the islands of Sicily and Sardinia and in Greece; Iberia, where Hasdrubal, a younger brother of Hannibal, defended the Carthaginian colonial cities with mixed success before moving into Italy; and North Africa, where Rome finally won the war. '"
      ]
     },
     "execution_count": 71,
     "metadata": {},
     "output_type": "execute_result"
    }
   ],
   "source": [
    "big_txt.replace(\"The\",\"a\")\n",
    "big_txt.replace(\"the\",\"a\")\n",
    "big_txt.replace(\"THE\",\"a\")"
   ]
  },
  {
   "cell_type": "markdown",
   "id": "c412c0c4",
   "metadata": {},
   "source": [
    "### Question 7\n",
    "Reverse the string"
   ]
  },
  {
   "cell_type": "code",
   "execution_count": 58,
   "id": "dcc8f746",
   "metadata": {},
   "outputs": [],
   "source": [
    "txt = \"Hello World\""
   ]
  },
  {
   "cell_type": "code",
   "execution_count": 50,
   "id": "cad90938",
   "metadata": {},
   "outputs": [
    {
     "name": "stdout",
     "output_type": "stream",
     "text": [
      "dlroW olleH\n"
     ]
    }
   ],
   "source": [
    "txt = \"Hello World\"[::-1]\n",
    "print(txt)"
   ]
  },
  {
   "cell_type": "markdown",
   "id": "c6fe0496",
   "metadata": {},
   "source": [
    "#### Answer"
   ]
  },
  {
   "cell_type": "markdown",
   "id": "bf1f91c7",
   "metadata": {},
   "source": [
    "### Question 8\n",
    "Add 2 strings with space in between, create and save in a new variable string_3"
   ]
  },
  {
   "cell_type": "code",
   "execution_count": 39,
   "id": "03f07279",
   "metadata": {},
   "outputs": [
    {
     "name": "stdout",
     "output_type": "stream",
     "text": [
      "HelloWorld\n"
     ]
    }
   ],
   "source": [
    "string1 = \"Hello\"\n",
    "string2 = \"World\"\n",
    "print(string1+string2)"
   ]
  },
  {
   "cell_type": "code",
   "execution_count": 48,
   "id": "1b816a07",
   "metadata": {},
   "outputs": [
    {
     "name": "stdout",
     "output_type": "stream",
     "text": [
      "Hello World\n"
     ]
    }
   ],
   "source": [
    "string3 = (string1+\" \" +string2)\n",
    "print(string3)"
   ]
  },
  {
   "cell_type": "code",
   "execution_count": null,
   "id": "8ebf0336",
   "metadata": {},
   "outputs": [],
   "source": []
  },
  {
   "cell_type": "code",
   "execution_count": null,
   "id": "75274336",
   "metadata": {},
   "outputs": [],
   "source": []
  },
  {
   "cell_type": "code",
   "execution_count": null,
   "id": "b25597ef",
   "metadata": {},
   "outputs": [],
   "source": []
  },
  {
   "cell_type": "code",
   "execution_count": null,
   "id": "6ea2558f",
   "metadata": {},
   "outputs": [],
   "source": []
  }
 ],
 "metadata": {
  "kernelspec": {
   "display_name": "Python 3 (ipykernel)",
   "language": "python",
   "name": "python3"
  },
  "language_info": {
   "codemirror_mode": {
    "name": "ipython",
    "version": 3
   },
   "file_extension": ".py",
   "mimetype": "text/x-python",
   "name": "python",
   "nbconvert_exporter": "python",
   "pygments_lexer": "ipython3",
   "version": "3.9.13"
  }
 },
 "nbformat": 4,
 "nbformat_minor": 5
}
